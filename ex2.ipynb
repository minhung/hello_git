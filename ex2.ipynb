{
 "metadata": {
  "name": "ex2"
 }, 
 "nbformat": 2, 
 "worksheets": [
  {
   "cells": [
    {
     "cell_type": "code", 
     "collapsed": false, 
     "input": [
      "range(10)"
     ], 
     "language": "python", 
     "outputs": [
      {
       "output_type": "pyout", 
       "prompt_number": 7, 
       "text": [
        "[0, 1, 2, 3, 4, 5, 6, 7, 8, 9]"
       ]
      }
     ], 
     "prompt_number": 7
    }, 
    {
     "cell_type": "markdown", 
     "source": [
      "$$e^{sinx}_2$$"
     ]
    }, 
    {
     "cell_type": "markdown", 
     "source": [
      "##$$\\int^x_2 e^{sin{t}}  dt \\quad test$$"
     ]
    }, 
    {
     "cell_type": "markdown", 
     "source": [
      "New Project"
     ]
    }, 
    {
     "cell_type": "markdown", 
     "source": [
      "git clone https:///xxx.xxx"
     ]
    }, 
    {
     "cell_type": "markdown", 
     "source": [
      "$$\\lim_{x \\to \\infty} \\frac{x}{x+1}$$"
     ]
    }, 
    {
     "cell_type": "code", 
     "collapsed": true, 
     "input": [], 
     "language": "python", 
     "outputs": []
    }
   ]
  }
 ]
}